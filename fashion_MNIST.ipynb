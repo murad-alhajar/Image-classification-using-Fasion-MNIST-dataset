{
 "cells": [
  {
   "cell_type": "code",
   "execution_count": 5,
   "id": "ce8c9b18",
   "metadata": {},
   "outputs": [],
   "source": [
    "import numpy as np\n",
    "import tensorflow as tf\n",
    "from tensorflow import keras"
   ]
  },
  {
   "cell_type": "code",
   "execution_count": 4,
   "id": "7ee0f9d3",
   "metadata": {},
   "outputs": [],
   "source": [
    "fashion_mnist = keras.datasets.fashion_mnist\n",
    "(x_train, y_train), (x_test, y_test) = fashion_mnist.load_data()\n",
    "x_train = x_train.reshape(-1, 28, 28, 1)\n",
    "x_test = x_test.reshape(-1, 28, 28, 1)"
   ]
  },
  {
   "cell_type": "code",
   "execution_count": 55,
   "id": "05bab875",
   "metadata": {},
   "outputs": [
    {
     "data": {
      "text/plain": [
       "(55000,)"
      ]
     },
     "execution_count": 55,
     "metadata": {},
     "output_type": "execute_result"
    }
   ],
   "source": [
    "x_valid, x_train = x_train[:5000]/255, x_train[5000:]/255\n",
    "y_valid, y_train = y_train[:5000], y_train[5000:]\n",
    "x_test = x_test/255"
   ]
  },
  {
   "cell_type": "code",
   "execution_count": 56,
   "id": "e07598be",
   "metadata": {},
   "outputs": [],
   "source": [
    "class_names = [\" T-shirt/ top\", \"Trouser\", \"Pullover\", \"Dress\", \"Coat\", \"Sandal\", \"Shirt\", \"Sneaker\", \"Bag\", \"Ankle boot\"]"
   ]
  },
  {
   "cell_type": "code",
   "execution_count": 57,
   "id": "f5feef06",
   "metadata": {},
   "outputs": [],
   "source": [
    "model = keras.models.Sequential([\n",
    "    keras.layers.Conv2D(64, 7, activation = 'relu', padding='same', input_shape=[28, 28, 1]),\n",
    "    keras.layers.MaxPool2D(2),\n",
    "    keras.layers.Conv2D(128, 3, activation = 'relu', padding='same'),\n",
    "    keras.layers.Conv2D(128, 3, activation = 'relu', padding='same'),\n",
    "    keras.layers.MaxPool2D(2),\n",
    "    keras.layers.Conv2D(256, 3, activation = 'relu', padding='same'),\n",
    "    keras.layers.Conv2D(256, 3, activation = 'relu', padding='same'),\n",
    "    keras.layers.MaxPool2D(2),\n",
    "    keras.layers.Flatten(),\n",
    "    keras.layers.Dense(128, activation = 'relu'),\n",
    "    keras.layers.Dropout(0.5),\n",
    "    keras.layers.Dense(64, activation = 'relu'),\n",
    "    keras.layers.Dropout(0.5),\n",
    "    keras.layers.Dense(10, activation = 'softmax')\n",
    "])"
   ]
  },
  {
   "cell_type": "code",
   "execution_count": 60,
   "id": "f37e0901",
   "metadata": {},
   "outputs": [],
   "source": [
    "model.compile(optimizer=keras.optimizers.Adam(), loss=keras.losses.sparse_categorical_crossentropy, metrics=['accuracy'])"
   ]
  },
  {
   "cell_type": "code",
   "execution_count": 62,
   "id": "dcbeaba8",
   "metadata": {},
   "outputs": [
    {
     "name": "stdout",
     "output_type": "stream",
     "text": [
      "Epoch 1/30\n",
      "275/275 [==============================] - 215s 781ms/step - loss: 0.9073 - accuracy: 0.6823 - val_loss: 0.3931 - val_accuracy: 0.8566\n",
      "Epoch 2/30\n",
      "275/275 [==============================] - 218s 791ms/step - loss: 0.5037 - accuracy: 0.8295 - val_loss: 0.3257 - val_accuracy: 0.8832\n",
      "Epoch 3/30\n",
      "275/275 [==============================] - 219s 796ms/step - loss: 0.4151 - accuracy: 0.8586 - val_loss: 0.2901 - val_accuracy: 0.8954\n",
      "Epoch 4/30\n",
      "275/275 [==============================] - 221s 803ms/step - loss: 0.3602 - accuracy: 0.8791 - val_loss: 0.2616 - val_accuracy: 0.9068\n",
      "Epoch 5/30\n",
      "275/275 [==============================] - 214s 778ms/step - loss: 0.3206 - accuracy: 0.8943 - val_loss: 0.2722 - val_accuracy: 0.9020\n",
      "Epoch 6/30\n",
      "275/275 [==============================] - 212s 770ms/step - loss: 0.2933 - accuracy: 0.9021 - val_loss: 0.2554 - val_accuracy: 0.9054\n",
      "Epoch 7/30\n",
      "275/275 [==============================] - 212s 772ms/step - loss: 0.2734 - accuracy: 0.9077 - val_loss: 0.2370 - val_accuracy: 0.9118\n",
      "Epoch 8/30\n",
      "275/275 [==============================] - 209s 761ms/step - loss: 0.2563 - accuracy: 0.9144 - val_loss: 0.2395 - val_accuracy: 0.9138\n",
      "Epoch 9/30\n",
      "275/275 [==============================] - 212s 770ms/step - loss: 0.2378 - accuracy: 0.9193 - val_loss: 0.2409 - val_accuracy: 0.9134\n",
      "Epoch 10/30\n",
      "275/275 [==============================] - 213s 774ms/step - loss: 0.2193 - accuracy: 0.9272 - val_loss: 0.2208 - val_accuracy: 0.9190\n",
      "Epoch 11/30\n",
      "275/275 [==============================] - 212s 772ms/step - loss: 0.2040 - accuracy: 0.9313 - val_loss: 0.2354 - val_accuracy: 0.9198\n",
      "Epoch 12/30\n",
      "275/275 [==============================] - 212s 770ms/step - loss: 0.1911 - accuracy: 0.9353 - val_loss: 0.2255 - val_accuracy: 0.9198\n",
      "Epoch 13/30\n",
      "275/275 [==============================] - 211s 769ms/step - loss: 0.1763 - accuracy: 0.9401 - val_loss: 0.2362 - val_accuracy: 0.9218\n",
      "Epoch 14/30\n",
      "275/275 [==============================] - 211s 769ms/step - loss: 0.1667 - accuracy: 0.9425 - val_loss: 0.2451 - val_accuracy: 0.9222\n",
      "Epoch 15/30\n",
      "275/275 [==============================] - 212s 771ms/step - loss: 0.1528 - accuracy: 0.9478 - val_loss: 0.2523 - val_accuracy: 0.9188\n",
      "Epoch 16/30\n",
      "275/275 [==============================] - 211s 767ms/step - loss: 0.1464 - accuracy: 0.9491 - val_loss: 0.2343 - val_accuracy: 0.9242\n",
      "Epoch 17/30\n",
      "275/275 [==============================] - 209s 761ms/step - loss: 0.1374 - accuracy: 0.9527 - val_loss: 0.2526 - val_accuracy: 0.9224\n",
      "Epoch 18/30\n",
      "275/275 [==============================] - 209s 761ms/step - loss: 0.1263 - accuracy: 0.9562 - val_loss: 0.2758 - val_accuracy: 0.9212\n",
      "Epoch 19/30\n",
      "275/275 [==============================] - 619s 2s/step - loss: 0.1195 - accuracy: 0.9586 - val_loss: 0.2738 - val_accuracy: 0.9280\n",
      "Epoch 20/30\n",
      "275/275 [==============================] - 212s 773ms/step - loss: 0.1064 - accuracy: 0.9636 - val_loss: 0.2976 - val_accuracy: 0.9264\n",
      "Epoch 21/30\n",
      "275/275 [==============================] - 217s 791ms/step - loss: 0.1143 - accuracy: 0.9624 - val_loss: 0.2849 - val_accuracy: 0.9252\n",
      "Epoch 22/30\n",
      "275/275 [==============================] - 213s 774ms/step - loss: 0.0981 - accuracy: 0.9657 - val_loss: 0.2938 - val_accuracy: 0.9260\n",
      "Epoch 23/30\n",
      "275/275 [==============================] - 212s 771ms/step - loss: 0.0831 - accuracy: 0.9709 - val_loss: 0.3447 - val_accuracy: 0.9244\n",
      "Epoch 24/30\n",
      "275/275 [==============================] - 212s 770ms/step - loss: 0.0811 - accuracy: 0.9725 - val_loss: 0.3092 - val_accuracy: 0.9274\n",
      "Epoch 25/30\n",
      "275/275 [==============================] - 210s 763ms/step - loss: 0.0779 - accuracy: 0.9738 - val_loss: 0.3290 - val_accuracy: 0.9278\n",
      "Epoch 26/30\n",
      "275/275 [==============================] - 210s 764ms/step - loss: 0.0755 - accuracy: 0.9747 - val_loss: 0.3285 - val_accuracy: 0.9264\n",
      "Epoch 27/30\n",
      "275/275 [==============================] - 11376s 41s/step - loss: 0.0793 - accuracy: 0.9739 - val_loss: 0.3715 - val_accuracy: 0.9254\n",
      "Epoch 28/30\n",
      "275/275 [==============================] - 212s 770ms/step - loss: 0.0672 - accuracy: 0.9783 - val_loss: 0.3970 - val_accuracy: 0.9244\n",
      "Epoch 29/30\n",
      "275/275 [==============================] - 211s 766ms/step - loss: 0.0604 - accuracy: 0.9803 - val_loss: 0.4090 - val_accuracy: 0.9302\n",
      "Epoch 30/30\n",
      "275/275 [==============================] - 210s 764ms/step - loss: 0.0607 - accuracy: 0.9797 - val_loss: 0.3886 - val_accuracy: 0.9286\n"
     ]
    },
    {
     "data": {
      "text/plain": [
       "<tensorflow.python.keras.callbacks.History at 0x136e9d7db50>"
      ]
     },
     "execution_count": 62,
     "metadata": {},
     "output_type": "execute_result"
    }
   ],
   "source": [
    "model.fit(x_train, y_train, epochs=30, batch_size= 200, validation_data=(x_valid, y_valid))"
   ]
  },
  {
   "cell_type": "code",
   "execution_count": 63,
   "id": "d9c549ee",
   "metadata": {},
   "outputs": [
    {
     "name": "stdout",
     "output_type": "stream",
     "text": [
      "313/313 [==============================] - 10s 30ms/step - loss: 0.4583 - accuracy: 0.9207\n"
     ]
    },
    {
     "data": {
      "text/plain": [
       "[0.4583236873149872, 0.9207000136375427]"
      ]
     },
     "execution_count": 63,
     "metadata": {},
     "output_type": "execute_result"
    }
   ],
   "source": [
    "model.evaluate(x_test, y_test)"
   ]
  }
 ],
 "metadata": {
  "kernelspec": {
   "display_name": "Python 3",
   "language": "python",
   "name": "python3"
  },
  "language_info": {
   "codemirror_mode": {
    "name": "ipython",
    "version": 3
   },
   "file_extension": ".py",
   "mimetype": "text/x-python",
   "name": "python",
   "nbconvert_exporter": "python",
   "pygments_lexer": "ipython3",
   "version": "3.8.8"
  }
 },
 "nbformat": 4,
 "nbformat_minor": 5
}
